{
 "cells": [
  {
   "cell_type": "code",
   "execution_count": 1,
   "id": "f274225c",
   "metadata": {},
   "outputs": [],
   "source": [
    "import numpy as np"
   ]
  },
  {
   "cell_type": "code",
   "execution_count": 4,
   "id": "2cdb1843",
   "metadata": {},
   "outputs": [
    {
     "name": "stdout",
     "output_type": "stream",
     "text": [
      "-2.9999999999999996\n"
     ]
    }
   ],
   "source": [
    "# computes determinant\n",
    "print(np.linalg.det([[1 , 2], [2, 1]]))"
   ]
  },
  {
   "cell_type": "code",
   "execution_count": 6,
   "id": "884b65c8",
   "metadata": {},
   "outputs": [
    {
     "name": "stdout",
     "output_type": "stream",
     "text": [
      "[ 3. -1.]\n",
      "[[ 0.70710678 -0.70710678]\n",
      " [ 0.70710678  0.70710678]]\n"
     ]
    }
   ],
   "source": [
    "# The linalg.eig computes the eigenvalues and right eigenvectors of a square array.\n",
    "vals, vecs = np.linalg.eig([[1, 2], [2, 1]])\n",
    "print(vals)\n",
    "print(vecs)"
   ]
  },
  {
   "cell_type": "code",
   "execution_count": 7,
   "id": "1fffb86c",
   "metadata": {},
   "outputs": [
    {
     "name": "stdout",
     "output_type": "stream",
     "text": [
      "[[-0.33333333  0.66666667]\n",
      " [ 0.66666667 -0.33333333]]\n"
     ]
    }
   ],
   "source": [
    "# The linalg.inv tool computes the (multiplicative) inverse of a matrix.\n",
    "print(np.linalg.inv([[1, 2], [2, 1]]))"
   ]
  },
  {
   "cell_type": "code",
   "execution_count": 65,
   "id": "dc4addff",
   "metadata": {},
   "outputs": [
    {
     "name": "stdout",
     "output_type": "stream",
     "text": [
      "2\n",
      "1 2\n",
      "2 1\n",
      "-3.0\n"
     ]
    }
   ],
   "source": [
    "# Task You are given a square matrix A with dimensions N*N. Your task is to find the determinant. Note: Round the answer to 2 places after the decimal.\n",
    "import numpy as np\n",
    "\n",
    "N = int(input())\n",
    "matrix = np.empty((N, N))\n",
    "\n",
    "for i in range(N):\n",
    "    inputs = input().split(\" \")\n",
    "    for index, value in enumerate(inputs):\n",
    "        matrix[i][index] = float(value)\n",
    "        \n",
    "print(round(np.linalg.det(matrix), 2))"
   ]
  },
  {
   "cell_type": "markdown",
   "id": "b3c8feea",
   "metadata": {},
   "source": [
    "## matrix = np.empty((3, 3))\n",
    "print(matrix)"
   ]
  },
  {
   "cell_type": "code",
   "execution_count": 45,
   "id": "a96c6928",
   "metadata": {},
   "outputs": [
    {
     "name": "stdout",
     "output_type": "stream",
     "text": [
      "2 3\n",
      "0 2\n",
      "1  \n",
      "2 3\n"
     ]
    }
   ],
   "source": [
    "mat = input().strip()\n",
    "for index, val in enumerate(mat):\n",
    "    print(index,val)"
   ]
  },
  {
   "cell_type": "code",
   "execution_count": 29,
   "id": "944ba39f",
   "metadata": {},
   "outputs": [
    {
     "name": "stdout",
     "output_type": "stream",
     "text": [
      "6.93930586777706e-310\n"
     ]
    }
   ],
   "source": [
    "print(matrix[2][0])"
   ]
  },
  {
   "cell_type": "code",
   "execution_count": null,
   "id": "5f1f8531",
   "metadata": {},
   "outputs": [],
   "source": []
  }
 ],
 "metadata": {
  "kernelspec": {
   "display_name": "Python 3 (ipykernel)",
   "language": "python",
   "name": "python3"
  },
  "language_info": {
   "codemirror_mode": {
    "name": "ipython",
    "version": 3
   },
   "file_extension": ".py",
   "mimetype": "text/x-python",
   "name": "python",
   "nbconvert_exporter": "python",
   "pygments_lexer": "ipython3",
   "version": "3.10.9"
  }
 },
 "nbformat": 4,
 "nbformat_minor": 5
}
